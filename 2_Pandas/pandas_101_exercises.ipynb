{
 "cells": [
  {
   "cell_type": "code",
   "execution_count": 2,
   "metadata": {},
   "outputs": [],
   "source": [
    "# Solved exercises from 101 Panda Exercises for Data Analysis\n",
    "# source: https://www.machinelearningplus.com/python/101-pandas-exercises-python/\n",
    "\n",
    "import pandas as pd\n",
    "import numpy as np"
   ]
  },
  {
   "cell_type": "code",
   "execution_count": 18,
   "metadata": {},
   "outputs": [
    {
     "name": "stdout",
     "output_type": "stream",
     "text": [
      "1.0.1\n"
     ]
    }
   ],
   "source": [
    "# 1\n",
    "# Import pandas and check version\n",
    "\n",
    "# Solution\n",
    "import pandas as pd\n",
    "print(pd.__version__)"
   ]
  },
  {
   "cell_type": "code",
   "execution_count": 6,
   "metadata": {},
   "outputs": [],
   "source": [
    "# 2\n",
    "# Create a series from a list, numpy array and dict\n",
    "\n",
    "import numpy as np\n",
    "mylist = list('abcedfghijklmnopqrstuvwxyz')\n",
    "myarr = np.arange(26)\n",
    "mydict = dict(zip(mylist, myarr))"
   ]
  },
  {
   "cell_type": "code",
   "execution_count": 19,
   "metadata": {},
   "outputs": [],
   "source": [
    "# Solution\n",
    "my_series_list=pd.Series(mylist)\n",
    "my_series_arr = pd.Series(myarr)\n",
    "my_series_dict = pd.Series(mydict)"
   ]
  },
  {
   "cell_type": "code",
   "execution_count": 20,
   "metadata": {},
   "outputs": [],
   "source": [
    "# 3\n",
    "#Convert the series ser into a dataframe with its index as another column on the dataframe.\n",
    "\n",
    "mylist = list('abcedfghijklmnopqrstuvwxyz')\n",
    "myarr = np.arange(26)\n",
    "mydict = dict(zip(mylist, myarr))\n",
    "ser = pd.Series(mydict)"
   ]
  },
  {
   "cell_type": "code",
   "execution_count": 30,
   "metadata": {},
   "outputs": [],
   "source": [
    "# Solution\n",
    "# ser.to_frame().reset_index()\n",
    "\n",
    "# Convert serie to dataframe\n",
    "data = ser.to_frame()\n",
    "# old indexs are added as a Index column, and a new sequential index is used\n",
    "data = data.reset_index()"
   ]
  },
  {
   "cell_type": "code",
   "execution_count": 33,
   "metadata": {},
   "outputs": [],
   "source": [
    "# 4\n",
    "# Combine series ser1 and ser2 to form a dataframe\n",
    "\n",
    "ser1 = pd.Series(list('abcedfghijklmnopqrstuvwxyz'))\n",
    "ser2 = pd.Series(np.arange(26))"
   ]
  },
  {
   "cell_type": "code",
   "execution_count": 34,
   "metadata": {},
   "outputs": [
    {
     "name": "stdout",
     "output_type": "stream",
     "text": [
      "    0   1\n",
      "0   a   0\n",
      "1   b   1\n",
      "2   c   2\n",
      "3   e   3\n",
      "4   d   4\n",
      "5   f   5\n",
      "6   g   6\n",
      "7   h   7\n",
      "8   i   8\n",
      "9   j   9\n",
      "10  k  10\n",
      "11  l  11\n",
      "12  m  12\n",
      "13  n  13\n",
      "14  o  14\n",
      "15  p  15\n",
      "16  q  16\n",
      "17  r  17\n",
      "18  s  18\n",
      "19  t  19\n",
      "20  u  20\n",
      "21  v  21\n",
      "22  w  22\n",
      "23  x  23\n",
      "24  y  24\n",
      "25  z  25\n"
     ]
    }
   ],
   "source": [
    "# Solution\n",
    "# Sol1 Concantenate Axis = 1 concatenate along columns (axis 1)\n",
    "df = pd.concat([ser1, ser2], axis=1)\n",
    "# Sol2\n",
    "df2 = pd.DataFrame({'col1': ser1, 'col2': ser2})"
   ]
  },
  {
   "cell_type": "code",
   "execution_count": 22,
   "metadata": {},
   "outputs": [],
   "source": [
    "# 5\n",
    "# Give a name to the series ser calling it ‘alphabets’.\n",
    "\n",
    "ser = pd.Series(list('abcedfghijklmnopqrstuvwxyz'))"
   ]
  },
  {
   "cell_type": "code",
   "execution_count": 26,
   "metadata": {},
   "outputs": [
    {
     "data": {
      "text/plain": [
       "0    a\n",
       "1    b\n",
       "2    c\n",
       "3    e\n",
       "4    d\n",
       "Name: alphabets, dtype: object"
      ]
     },
     "execution_count": 26,
     "metadata": {},
     "output_type": "execute_result"
    }
   ],
   "source": [
    "# Solution\n",
    "\n",
    "ser.name = 'alphabets'\n",
    "ser.head()"
   ]
  },
  {
   "cell_type": "code",
   "execution_count": 32,
   "metadata": {},
   "outputs": [],
   "source": []
  },
  {
   "cell_type": "code",
   "execution_count": null,
   "metadata": {},
   "outputs": [],
   "source": []
  }
 ],
 "metadata": {
  "kernelspec": {
   "display_name": "Python 3",
   "language": "python",
   "name": "python3"
  },
  "language_info": {
   "codemirror_mode": {
    "name": "ipython",
    "version": 3
   },
   "file_extension": ".py",
   "mimetype": "text/x-python",
   "name": "python",
   "nbconvert_exporter": "python",
   "pygments_lexer": "ipython3",
   "version": "3.7.6"
  }
 },
 "nbformat": 4,
 "nbformat_minor": 4
}
