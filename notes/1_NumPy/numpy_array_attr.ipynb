{
 "cells": [
  {
   "cell_type": "markdown",
   "metadata": {},
   "source": [
    "# NumPy\n",
    "## Array Attributes"
   ]
  },
  {
   "cell_type": "code",
   "execution_count": 2,
   "metadata": {},
   "outputs": [
    {
     "name": "stdout",
     "output_type": "stream",
     "text": [
      "[[[9 2 5 0 9]\n",
      "  [7 6 5 6 5]\n",
      "  [8 8 0 3 4]\n",
      "  [7 1 8 5 1]]\n",
      "\n",
      " [[8 6 7 3 9]\n",
      "  [4 6 4 8 0]\n",
      "  [4 5 4 8 4]\n",
      "  [0 9 6 3 2]]\n",
      "\n",
      " [[2 6 4 9 0]\n",
      "  [9 2 3 4 1]\n",
      "  [7 9 4 3 5]\n",
      "  [7 8 5 3 8]]]\n"
     ]
    }
   ],
   "source": [
    "import numpy as np\n",
    "x3 = np.random.randint(10, size=(3, 4, 5))\n",
    "print(x3)"
   ]
  },
  {
   "cell_type": "markdown",
   "metadata": {},
   "source": [
    "**Number of Dimensions (3)**  \n",
    "array.ndim"
   ]
  },
  {
   "cell_type": "code",
   "execution_count": 3,
   "metadata": {},
   "outputs": [
    {
     "name": "stdout",
     "output_type": "stream",
     "text": [
      "x3 ndim:  3\n"
     ]
    }
   ],
   "source": [
    "print(\"x3 ndim: \", x3.ndim) "
   ]
  },
  {
   "cell_type": "markdown",
   "metadata": {},
   "source": [
    "**Dimensions size (3, 4, 5)**  \n",
    "array.shape"
   ]
  },
  {
   "cell_type": "code",
   "execution_count": 4,
   "metadata": {},
   "outputs": [
    {
     "name": "stdout",
     "output_type": "stream",
     "text": [
      "x3 shape: (3, 4, 5)\n"
     ]
    }
   ],
   "source": [
    "print(\"x3 shape:\", x3.shape)"
   ]
  },
  {
   "cell_type": "markdown",
   "metadata": {},
   "source": [
    "**Array size ( 3 x 4 x 5 = 60)**  \n",
    "array.size"
   ]
  },
  {
   "cell_type": "code",
   "execution_count": 12,
   "metadata": {},
   "outputs": [
    {
     "name": "stdout",
     "output_type": "stream",
     "text": [
      "x3 size:  60\n"
     ]
    }
   ],
   "source": [
    "print(\"x3 size: \", x3.size)"
   ]
  },
  {
   "cell_type": "markdown",
   "metadata": {},
   "source": [
    "**Array data type**  \n",
    "array.dtype"
   ]
  },
  {
   "cell_type": "code",
   "execution_count": 6,
   "metadata": {},
   "outputs": [
    {
     "name": "stdout",
     "output_type": "stream",
     "text": [
      "dtype: int64\n"
     ]
    }
   ],
   "source": [
    "print(\"dtype:\", x3.dtype)"
   ]
  },
  {
   "cell_type": "markdown",
   "metadata": {},
   "source": [
    "**Array max / min**  \n",
    "Values - np.max() / np.min()  \n",
    "Indexes - np.argmax() / np.argmin()"
   ]
  },
  {
   "cell_type": "code",
   "execution_count": 11,
   "metadata": {},
   "outputs": [
    {
     "name": "stdout",
     "output_type": "stream",
     "text": [
      "Max: 9 at index 0\n",
      "Min: 0 at index 3\n"
     ]
    }
   ],
   "source": [
    "print(\"Max: {} at index {}\".format(np.max(x3), np.argmax(x3)))\n",
    "print(\"Min: {} at index {}\".format(np.min(x3), np.argmin(x3)))"
   ]
  },
  {
   "cell_type": "code",
   "execution_count": null,
   "metadata": {},
   "outputs": [],
   "source": []
  }
 ],
 "metadata": {
  "kernelspec": {
   "display_name": "Python 3",
   "language": "python",
   "name": "python3"
  },
  "language_info": {
   "codemirror_mode": {
    "name": "ipython",
    "version": 3
   },
   "file_extension": ".py",
   "mimetype": "text/x-python",
   "name": "python",
   "nbconvert_exporter": "python",
   "pygments_lexer": "ipython3",
   "version": "3.7.6"
  }
 },
 "nbformat": 4,
 "nbformat_minor": 4
}
